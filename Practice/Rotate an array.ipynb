{
 "cells": [
  {
   "cell_type": "markdown",
   "id": "f63c7cff",
   "metadata": {},
   "source": [
    "# Rotate an array"
   ]
  },
  {
   "cell_type": "code",
   "execution_count": 11,
   "id": "11289cc6",
   "metadata": {},
   "outputs": [
    {
     "name": "stdout",
     "output_type": "stream",
     "text": [
      "[5, 6, 7, 1, 2, 3, 4]\n"
     ]
    }
   ],
   "source": [
    "#Time Complexity - O(n)\n",
    "# Space Complexity - O(k)\n",
    "\n",
    "a = [1,2,3,4,5,6,7]\n",
    "k = 3\n",
    "\n",
    "k = k % len(a)\n",
    "\n",
    "x = a[0:k+1]\n",
    "a = a[k+1:]\n",
    "\n",
    "a.extend(x)\n",
    "print(a)\n"
   ]
  },
  {
   "cell_type": "code",
   "execution_count": 10,
   "id": "ee0bed98",
   "metadata": {},
   "outputs": [
    {
     "name": "stdout",
     "output_type": "stream",
     "text": [
      "[5, 6, 7, 1, 2, 3, 4]\n"
     ]
    }
   ],
   "source": [
    "#Time Complexity - O(n)\n",
    "# Space Complexity - O(1)\n",
    "\n",
    "a = [1,2,3,4,5,6,7]\n",
    "k = 3\n",
    "\n",
    "\n",
    "def reverse(arr,low,high):\n",
    "    while(low < high):\n",
    "        arr[low], arr[high] = arr[high], arr[low]\n",
    "        low += 1\n",
    "        high -= 1\n",
    "\n",
    "def rotate(arr,k):\n",
    "    n = len(arr)\n",
    "    k = k % n\n",
    "    reverse(arr, n-k , n-1)\n",
    "    reverse(arr,0,n-k-1)\n",
    "    reverse(arr,0,n-1)\n",
    "    \n",
    "    return arr\n",
    "\n",
    "result = rotate(a,k)\n",
    "print(result)"
   ]
  },
  {
   "cell_type": "code",
   "execution_count": null,
   "id": "83f3f1e2",
   "metadata": {},
   "outputs": [],
   "source": []
  }
 ],
 "metadata": {
  "kernelspec": {
   "display_name": "Python 3",
   "language": "python",
   "name": "python3"
  },
  "language_info": {
   "codemirror_mode": {
    "name": "ipython",
    "version": 3
   },
   "file_extension": ".py",
   "mimetype": "text/x-python",
   "name": "python",
   "nbconvert_exporter": "python",
   "pygments_lexer": "ipython3",
   "version": "3.8.8"
  }
 },
 "nbformat": 4,
 "nbformat_minor": 5
}
