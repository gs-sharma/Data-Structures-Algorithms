{
 "cells": [
  {
   "cell_type": "markdown",
   "id": "80ea20f3",
   "metadata": {},
   "source": [
    "# Find the missing number\n",
    "\n",
    "given n - size of array\n",
    "      array - array containing all elements from 1 to n excet 1\n",
    "\n",
    "Expected Value - missing element"
   ]
  },
  {
   "cell_type": "code",
   "execution_count": 27,
   "id": "e78dd0d9",
   "metadata": {},
   "outputs": [
    {
     "name": "stdout",
     "output_type": "stream",
     "text": [
      "5\n"
     ]
    }
   ],
   "source": [
    "# complexity O(n^2) \n",
    "n = 10\n",
    "x = list(range(1,n+1))\n",
    "a = [1,2,4,3,6,7,9,8,10]\n",
    "\n",
    "for num in x:\n",
    "    if num not in a:\n",
    "        print(num)"
   ]
  },
  {
   "cell_type": "code",
   "execution_count": 29,
   "id": "eeea86bd",
   "metadata": {},
   "outputs": [
    {
     "name": "stdout",
     "output_type": "stream",
     "text": [
      "5.0\n"
     ]
    }
   ],
   "source": [
    "# Complexity - O(n) - used sum of n number formula\n",
    "# Problem - large value of n will cause memory issues\n",
    "nSum = n*(n+1)/2\n",
    "arrSum = 0\n",
    "for num in a:\n",
    "    arrSum += num\n",
    "print(nSum - arrSum)"
   ]
  },
  {
   "cell_type": "code",
   "execution_count": 30,
   "id": "977c7db7",
   "metadata": {},
   "outputs": [
    {
     "name": "stdout",
     "output_type": "stream",
     "text": [
      "5\n"
     ]
    }
   ],
   "source": [
    "# Complexity - O(n) - used XOR property\n",
    "\n",
    "xor1= 0\n",
    "xor2 = 0\n",
    "for num in a:\n",
    "    xor1= xor1 ^ num\n",
    "for num in range(1,n+1):\n",
    "    xor2 = xor2 ^ num\n",
    "\n",
    "print(xor1 ^ xor2)"
   ]
  },
  {
   "cell_type": "code",
   "execution_count": null,
   "id": "72e460ce",
   "metadata": {},
   "outputs": [],
   "source": []
  }
 ],
 "metadata": {
  "kernelspec": {
   "display_name": "Python 3",
   "language": "python",
   "name": "python3"
  },
  "language_info": {
   "codemirror_mode": {
    "name": "ipython",
    "version": 3
   },
   "file_extension": ".py",
   "mimetype": "text/x-python",
   "name": "python",
   "nbconvert_exporter": "python",
   "pygments_lexer": "ipython3",
   "version": "3.8.8"
  }
 },
 "nbformat": 4,
 "nbformat_minor": 5
}
