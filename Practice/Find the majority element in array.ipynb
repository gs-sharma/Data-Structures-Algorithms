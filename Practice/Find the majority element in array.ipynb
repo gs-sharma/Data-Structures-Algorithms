{
 "cells": [
  {
   "cell_type": "markdown",
   "id": "8419439a",
   "metadata": {},
   "source": [
    "# Find the majority element in array\n",
    "\n",
    "majority - frequency greator than n/2 where n is size of array"
   ]
  },
  {
   "cell_type": "code",
   "execution_count": 29,
   "id": "67807a90",
   "metadata": {},
   "outputs": [
    {
     "name": "stdout",
     "output_type": "stream",
     "text": [
      "2\n"
     ]
    }
   ],
   "source": [
    "# Using Dictionary - \n",
    "# Time Complexity - O(n)\n",
    "# Space Complexity - O(n)\n",
    "a = [2,8,7,2,2,1,2]\n",
    "x = {}\n",
    "\n",
    "def checkMajority(num,length):\n",
    "    return num > length/2\n",
    "\n",
    "for num in a:\n",
    "    if num in x.keys():\n",
    "        x[num] += 1\n",
    "        if checkMajority(x[num],len(a)):\n",
    "            print(num)\n",
    "            break\n",
    "    else:\n",
    "        x[num] = 1\n",
    "else:\n",
    "    print(None)\n",
    "        "
   ]
  },
  {
   "cell_type": "code",
   "execution_count": 30,
   "id": "c096cbc3",
   "metadata": {},
   "outputs": [],
   "source": [
    "# Using Boyer Moore Algorithm\n",
    "# Time Complexity - O(n)\n",
    "# Space Complexity - O(1)\n",
    "\n",
    "def majority(arr):\n",
    "    m = ''\n",
    "    cnt = 0\n",
    "    \n",
    "    for num in arr:\n",
    "        if cnt == 0:\n",
    "            m = num\n",
    "            cnt += 1\n",
    "        else:\n",
    "            if m == num:\n",
    "                cnt += 1\n",
    "            else:\n",
    "                cnt -= 1\n",
    "    # m might be the majority element\n",
    "    return m"
   ]
  },
  {
   "cell_type": "code",
   "execution_count": 31,
   "id": "1ffbcd7a",
   "metadata": {},
   "outputs": [
    {
     "name": "stdout",
     "output_type": "stream",
     "text": [
      "2\n"
     ]
    }
   ],
   "source": [
    "maj = majority(a)\n",
    "#verification\n",
    "cnt = 0\n",
    "for num in a:\n",
    "    if num == maj:\n",
    "        cnt += 1\n",
    "    if checkMajority(cnt,len(a)):\n",
    "            print(num)\n",
    "            break\n",
    "else:\n",
    "    print(None)"
   ]
  },
  {
   "cell_type": "code",
   "execution_count": null,
   "id": "a113e7ba",
   "metadata": {},
   "outputs": [],
   "source": []
  },
  {
   "cell_type": "code",
   "execution_count": null,
   "id": "0099b4c2",
   "metadata": {},
   "outputs": [],
   "source": []
  }
 ],
 "metadata": {
  "kernelspec": {
   "display_name": "Python 3",
   "language": "python",
   "name": "python3"
  },
  "language_info": {
   "codemirror_mode": {
    "name": "ipython",
    "version": 3
   },
   "file_extension": ".py",
   "mimetype": "text/x-python",
   "name": "python",
   "nbconvert_exporter": "python",
   "pygments_lexer": "ipython3",
   "version": "3.8.8"
  }
 },
 "nbformat": 4,
 "nbformat_minor": 5
}
