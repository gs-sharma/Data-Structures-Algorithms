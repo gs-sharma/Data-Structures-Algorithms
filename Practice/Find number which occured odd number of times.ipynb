{
 "cells": [
  {
   "cell_type": "markdown",
   "id": "363e6f80",
   "metadata": {},
   "source": [
    "# Find number which occured odd number of times\n",
    "\n",
    "-> Only 1 such number will be there in the given array\n"
   ]
  },
  {
   "cell_type": "code",
   "execution_count": 3,
   "id": "2b9b8ea8",
   "metadata": {},
   "outputs": [
    {
     "name": "stdout",
     "output_type": "stream",
     "text": [
      "1\n"
     ]
    }
   ],
   "source": [
    "#Time Complexity - O(n)\n",
    "#Space Complexity - O(1)\n",
    "\n",
    "x = [1,2,3,2,3,1,2,2,1]\n",
    "\n",
    "r = 0\n",
    "for num in x:\n",
    "    r = r ^ num\n",
    "\n",
    "print(r)\n",
    "    "
   ]
  },
  {
   "cell_type": "code",
   "execution_count": null,
   "id": "5e5cb789",
   "metadata": {},
   "outputs": [],
   "source": [
    "#Time Complexity - O(n)\n",
    "#Space Complexity - O(n) - usinf dictionary"
   ]
  }
 ],
 "metadata": {
  "kernelspec": {
   "display_name": "Python 3",
   "language": "python",
   "name": "python3"
  },
  "language_info": {
   "codemirror_mode": {
    "name": "ipython",
    "version": 3
   },
   "file_extension": ".py",
   "mimetype": "text/x-python",
   "name": "python",
   "nbconvert_exporter": "python",
   "pygments_lexer": "ipython3",
   "version": "3.8.8"
  }
 },
 "nbformat": 4,
 "nbformat_minor": 5
}
